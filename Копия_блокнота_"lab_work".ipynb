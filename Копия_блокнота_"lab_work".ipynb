{
  "nbformat": 4,
  "nbformat_minor": 0,
  "metadata": {
    "colab": {
      "provenance": [],
      "collapsed_sections": [
        "wVcCTF_Zz58q",
        "JKYRkX_rBxxu"
      ],
      "include_colab_link": true
    },
    "kernelspec": {
      "name": "python3",
      "display_name": "Python 3"
    },
    "language_info": {
      "name": "python"
    }
  },
  "cells": [
    {
      "cell_type": "markdown",
      "metadata": {
        "id": "view-in-github",
        "colab_type": "text"
      },
      "source": [
        "<a href=\"https://colab.research.google.com/github/Alex286756/testing/blob/colab/%D0%9A%D0%BE%D0%BF%D0%B8%D1%8F_%D0%B1%D0%BB%D0%BE%D0%BA%D0%BD%D0%BE%D1%82%D0%B0_%22lab_work%22.ipynb\" target=\"_parent\"><img src=\"https://colab.research.google.com/assets/colab-badge.svg\" alt=\"Open In Colab\"/></a>"
      ]
    },
    {
      "cell_type": "markdown",
      "source": [
        "# Лабораторная работа"
      ],
      "metadata": {
        "id": "rloJD2luQnuQ"
      }
    },
    {
      "cell_type": "markdown",
      "source": [
        "Баллы за секции:\n",
        "- *Задание 1* - 10 баллов\n",
        "- *Задание 2* - 20 баллов\n",
        "- *Задание 3* - 30 баллов\n",
        "- **Итого** - 60 баллов\n",
        "\n",
        "Оценка за лабу $ = \\frac{score}{6}$"
      ],
      "metadata": {
        "id": "xIZ02xiML9p_"
      }
    },
    {
      "cell_type": "markdown",
      "source": [
        "## Внимание! Attention! Achtung!"
      ],
      "metadata": {
        "id": "OEDe7x8YRID0"
      }
    },
    {
      "cell_type": "markdown",
      "source": [
        "**Данная лабораторная работа является блокирующей**, т.е. если лабораторная работа не выполнена, то оценка за курс - неуд.\n",
        "\n",
        "Лабораторная работа считается выполненной, если **за каждое из заданий получено не менее 2 баллов**."
      ],
      "metadata": {
        "id": "ZEmKA-7NR1Y9"
      }
    },
    {
      "cell_type": "markdown",
      "source": [
        "## Формат сдачи лабораторной работы"
      ],
      "metadata": {
        "id": "N1ZbZ8dkR5q_"
      }
    },
    {
      "cell_type": "markdown",
      "source": [
        "Данная лабораторная работа сдается так же, как и проект - заполняете данный ноутбук, отправляете его через GitHub с указанием проверяющего."
      ],
      "metadata": {
        "id": "tEwx7LLQR-h8"
      }
    },
    {
      "cell_type": "markdown",
      "source": [
        "**Ассистенты не будут запускать ячейки кода, а смотреть на выведенный результат и код. Если ячейка кода не запущена - балл не ставится, даже при правильно написанном коде.**\n",
        "\n",
        "***(Комментарии что курс по Python легче чем по C++ учтены)***"
      ],
      "metadata": {
        "id": "qKwaNCJKj7b8"
      }
    },
    {
      "cell_type": "markdown",
      "source": [
        ">**Примечание**\n",
        ">\n",
        ">Данные задания вдохновлены предметом \"Введение в анализ данных\" 2 курса, по итогу которого идёт отбор на DS-поток. Если вы видите себя в смежных областях, советуем выполнить данную лабораторку по максимуму."
      ],
      "metadata": {
        "id": "hlUYK7MDRGye"
      }
    },
    {
      "cell_type": "code",
      "source": [
        "# Всё необходимое для выполнения данной лабораторной работы!\n",
        "import requests\n",
        "from time import sleep\n",
        "\n",
        "import numpy as np\n",
        "import pandas as pd\n",
        "import matplotlib.pyplot as plt\n",
        "import seaborn as sns"
      ],
      "metadata": {
        "id": "1qzEqvohoZfB"
      },
      "execution_count": 1,
      "outputs": []
    },
    {
      "cell_type": "markdown",
      "source": [
        "## Задание 1. Парсинг - 10 баллов"
      ],
      "metadata": {
        "id": "rB_FYHU2k8w-"
      }
    },
    {
      "cell_type": "markdown",
      "source": [
        "В этом задании Вам предстоит работать с API сайта <a target=\"_blank\" href=\"hh.ru\">hh.ru</a>. Документация доступна по <a target=\"_blank\" href=\"https://github.com/hhru/api/blob/master/docs/vacancies.md#search\">ссылке</a>."
      ],
      "metadata": {
        "id": "F0gr5cjaoQJy"
      }
    },
    {
      "cell_type": "markdown",
      "source": [
        "<b><font color=\"red\">Внимание!</font> При работе с API не забывайте делать паузы между запросами, иначе вас забанят. Просрочка дедлайна по этой причине не принимается!</b>"
      ],
      "metadata": {
        "id": "v8iCQYk7TNvK"
      }
    },
    {
      "cell_type": "markdown",
      "source": [
        "**Задача:**\n",
        "1. выбрать 5 интересующих вас профессий (не смежных, т.е. Аналатик и Data Engineer не считается корректным)\n",
        "2. затем получить доступные по данным профессиям вакансии в Москве и выделить их физические координаты\n",
        "3. нанести полученные координаты на карту местоположения компаний"
      ],
      "metadata": {
        "id": "-HAm80rqRqAZ"
      }
    },
    {
      "cell_type": "markdown",
      "source": [
        "*Пример запроса для профессии:*"
      ],
      "metadata": {
        "id": "H0GhQJvipXYj"
      }
    },
    {
      "cell_type": "code",
      "source": [
        "URL = 'https://api.hh.ru/vacancies'\n",
        "\n",
        "params = {\n",
        "    'text': \"Программист\",\n",
        "    'area': 1,\n",
        "    'page': 0,\n",
        "    'per_page': 10\n",
        "}\n",
        "\n",
        "data = requests.get(URL, params).json()"
      ],
      "metadata": {
        "id": "aZLGoS_DpsXI"
      },
      "execution_count": 2,
      "outputs": []
    },
    {
      "cell_type": "markdown",
      "source": [
        "Если Ваш запрос прошел успешно, то вы получите следующие ключи (значения данных ключей вы найдете по ссылке на документацию):"
      ],
      "metadata": {
        "id": "yHQtIBRQp91_"
      }
    },
    {
      "cell_type": "code",
      "source": [
        "data.keys()"
      ],
      "metadata": {
        "colab": {
          "base_uri": "https://localhost:8080/"
        },
        "id": "DW6mxzggpvKw",
        "outputId": "ad681d32-8c67-4a28-90a7-d90c432a6061"
      },
      "execution_count": 3,
      "outputs": [
        {
          "output_type": "execute_result",
          "data": {
            "text/plain": [
              "dict_keys(['items', 'found', 'pages', 'page', 'per_page', 'clusters', 'arguments', 'fixes', 'suggests', 'alternate_url'])"
            ]
          },
          "metadata": {},
          "execution_count": 3
        }
      ]
    },
    {
      "cell_type": "code",
      "source": [
        "data['pages']"
      ],
      "metadata": {
        "colab": {
          "base_uri": "https://localhost:8080/"
        },
        "id": "2dEv6JU5fPYn",
        "outputId": "7e8c842a-58ef-4618-bfe7-f14c25a2f441"
      },
      "execution_count": 4,
      "outputs": [
        {
          "output_type": "execute_result",
          "data": {
            "text/plain": [
              "200"
            ]
          },
          "metadata": {},
          "execution_count": 4
        }
      ]
    },
    {
      "cell_type": "code",
      "source": [
        "data['items']"
      ],
      "metadata": {
        "colab": {
          "base_uri": "https://localhost:8080/"
        },
        "id": "7ylqQCI1fVtw",
        "outputId": "f5ef4745-f97c-42b0-81fb-d93c4a5678b7"
      },
      "execution_count": 5,
      "outputs": [
        {
          "output_type": "execute_result",
          "data": {
            "text/plain": [
              "[{'id': '97338839',\n",
              "  'premium': False,\n",
              "  'name': 'Senior java разработчик',\n",
              "  'department': None,\n",
              "  'has_test': False,\n",
              "  'response_letter_required': False,\n",
              "  'area': {'id': '1', 'name': 'Москва', 'url': 'https://api.hh.ru/areas/1'},\n",
              "  'salary': {'from': None, 'to': 570000, 'currency': 'RUR', 'gross': True},\n",
              "  'type': {'id': 'open', 'name': 'Открытая'},\n",
              "  'address': None,\n",
              "  'response_url': None,\n",
              "  'sort_point_distance': None,\n",
              "  'published_at': '2024-04-18T15:03:00+0300',\n",
              "  'created_at': '2024-04-18T15:03:00+0300',\n",
              "  'archived': False,\n",
              "  'apply_alternate_url': 'https://hh.ru/applicant/vacancy_response?vacancyId=97338839',\n",
              "  'branding': {'type': 'MAKEUP', 'tariff': None},\n",
              "  'show_logo_in_search': True,\n",
              "  'insider_interview': None,\n",
              "  'url': 'https://api.hh.ru/vacancies/97338839?host=hh.ru',\n",
              "  'alternate_url': 'https://hh.ru/vacancy/97338839',\n",
              "  'relations': [],\n",
              "  'employer': {'id': '906557',\n",
              "   'name': 'SberTech',\n",
              "   'url': 'https://api.hh.ru/employers/906557',\n",
              "   'alternate_url': 'https://hh.ru/employer/906557',\n",
              "   'logo_urls': {'90': 'https://img.hhcdn.ru/employer-logo/3534363.png',\n",
              "    '240': 'https://img.hhcdn.ru/employer-logo/3534364.png',\n",
              "    'original': 'https://img.hhcdn.ru/employer-logo-original/773368.png'},\n",
              "   'vacancies_url': 'https://api.hh.ru/vacancies?employer_id=906557',\n",
              "   'accredited_it_employer': True,\n",
              "   'trusted': True},\n",
              "  'snippet': {'requirement': 'Опыт разработки на Java не менее 3 лет. Понимание принципов ООП, SOLID. Уверенное знание Spring, Hibernate. Знание SQL, навыки работы...',\n",
              "   'responsibility': 'Разрабатывать и поддерживать фичи на Java/Kotlin + Spring. Читать код (в проектах обязательный 100% code review). Участвовать в проектировании...'},\n",
              "  'contacts': None,\n",
              "  'schedule': {'id': 'fullDay', 'name': 'Полный день'},\n",
              "  'working_days': [],\n",
              "  'working_time_intervals': [],\n",
              "  'working_time_modes': [],\n",
              "  'accept_temporary': False,\n",
              "  'professional_roles': [{'id': '96', 'name': 'Программист, разработчик'}],\n",
              "  'accept_incomplete_resumes': False,\n",
              "  'experience': {'id': 'between3And6', 'name': 'От 3 до 6 лет'},\n",
              "  'employment': {'id': 'full', 'name': 'Полная занятость'},\n",
              "  'adv_response_url': None,\n",
              "  'is_adv_vacancy': False,\n",
              "  'adv_context': None},\n",
              " {'id': '98364385',\n",
              "  'premium': False,\n",
              "  'name': 'Frontend-разработчик (React)',\n",
              "  'department': None,\n",
              "  'has_test': False,\n",
              "  'response_letter_required': False,\n",
              "  'area': {'id': '1', 'name': 'Москва', 'url': 'https://api.hh.ru/areas/1'},\n",
              "  'salary': None,\n",
              "  'type': {'id': 'open', 'name': 'Открытая'},\n",
              "  'address': None,\n",
              "  'response_url': None,\n",
              "  'sort_point_distance': None,\n",
              "  'published_at': '2024-05-03T18:09:24+0300',\n",
              "  'created_at': '2024-05-03T18:09:24+0300',\n",
              "  'archived': False,\n",
              "  'apply_alternate_url': 'https://hh.ru/applicant/vacancy_response?vacancyId=98364385',\n",
              "  'branding': {'type': 'MAKEUP', 'tariff': None},\n",
              "  'show_logo_in_search': True,\n",
              "  'insider_interview': None,\n",
              "  'url': 'https://api.hh.ru/vacancies/98364385?host=hh.ru',\n",
              "  'alternate_url': 'https://hh.ru/vacancy/98364385',\n",
              "  'relations': [],\n",
              "  'employer': {'id': '3337555',\n",
              "   'name': 'A3F Group',\n",
              "   'url': 'https://api.hh.ru/employers/3337555',\n",
              "   'alternate_url': 'https://hh.ru/employer/3337555',\n",
              "   'logo_urls': {'90': 'https://img.hhcdn.ru/employer-logo/2609961.png',\n",
              "    '240': 'https://img.hhcdn.ru/employer-logo/2609962.png',\n",
              "    'original': 'https://img.hhcdn.ru/employer-logo-original/542122.png'},\n",
              "   'vacancies_url': 'https://api.hh.ru/vacancies?employer_id=3337555',\n",
              "   'accredited_it_employer': True,\n",
              "   'trusted': True},\n",
              "  'snippet': {'requirement': 'Знание JavaScript, Typescript. Опыт работы с React. Опыт работы с mobx, mobx-state-tree или аналогами. Опыт работы с MUI. ',\n",
              "   'responsibility': 'Разработка веб-версии приложения. Взаимодействие с командой бэкенда. Писать код на React. Разрабатывать MUI компоненты. Разрабатывать мобильный веб плагин с...'},\n",
              "  'contacts': None,\n",
              "  'schedule': {'id': 'fullDay', 'name': 'Полный день'},\n",
              "  'working_days': [],\n",
              "  'working_time_intervals': [],\n",
              "  'working_time_modes': [],\n",
              "  'accept_temporary': False,\n",
              "  'professional_roles': [{'id': '96', 'name': 'Программист, разработчик'}],\n",
              "  'accept_incomplete_resumes': False,\n",
              "  'experience': {'id': 'between1And3', 'name': 'От 1 года до 3 лет'},\n",
              "  'employment': {'id': 'full', 'name': 'Полная занятость'},\n",
              "  'adv_response_url': None,\n",
              "  'is_adv_vacancy': False,\n",
              "  'adv_context': None},\n",
              " {'id': '98328735',\n",
              "  'premium': False,\n",
              "  'name': 'Frontend-разработчик (Vue.js / Nuxt)',\n",
              "  'department': None,\n",
              "  'has_test': False,\n",
              "  'response_letter_required': False,\n",
              "  'area': {'id': '1', 'name': 'Москва', 'url': 'https://api.hh.ru/areas/1'},\n",
              "  'salary': {'from': 100000, 'to': 150000, 'currency': 'RUR', 'gross': False},\n",
              "  'type': {'id': 'open', 'name': 'Открытая'},\n",
              "  'address': {'city': 'Москва',\n",
              "   'street': 'Новодмитровская улица',\n",
              "   'building': '2к2',\n",
              "   'lat': 55.804471,\n",
              "   'lng': 37.590335,\n",
              "   'description': None,\n",
              "   'raw': 'Москва, Новодмитровская улица, 2к2',\n",
              "   'metro': None,\n",
              "   'metro_stations': [],\n",
              "   'id': '564518'},\n",
              "  'response_url': None,\n",
              "  'sort_point_distance': None,\n",
              "  'published_at': '2024-05-03T12:29:44+0300',\n",
              "  'created_at': '2024-05-03T12:29:44+0300',\n",
              "  'archived': False,\n",
              "  'apply_alternate_url': 'https://hh.ru/applicant/vacancy_response?vacancyId=98328735',\n",
              "  'show_logo_in_search': None,\n",
              "  'insider_interview': None,\n",
              "  'url': 'https://api.hh.ru/vacancies/98328735?host=hh.ru',\n",
              "  'alternate_url': 'https://hh.ru/vacancy/98328735',\n",
              "  'relations': [],\n",
              "  'employer': {'id': '479659',\n",
              "   'name': 'Дуотек',\n",
              "   'url': 'https://api.hh.ru/employers/479659',\n",
              "   'alternate_url': 'https://hh.ru/employer/479659',\n",
              "   'logo_urls': {'original': 'https://img.hhcdn.ru/employer-logo-original/921473.png',\n",
              "    '90': 'https://img.hhcdn.ru/employer-logo/4126456.png',\n",
              "    '240': 'https://img.hhcdn.ru/employer-logo/4126457.png'},\n",
              "   'vacancies_url': 'https://api.hh.ru/vacancies?employer_id=479659',\n",
              "   'accredited_it_employer': False,\n",
              "   'trusted': True},\n",
              "  'snippet': {'requirement': 'Опыт в сфере web-разработки от 1-2 лет. Уверенные знания HTML, CSS и JavaScript (ES5 & ES6). ',\n",
              "   'responsibility': 'Верстать онлайн-сервисы. Собирать логику / программировать компоненты интерфейса.'},\n",
              "  'contacts': None,\n",
              "  'schedule': {'id': 'fullDay', 'name': 'Полный день'},\n",
              "  'working_days': [],\n",
              "  'working_time_intervals': [],\n",
              "  'working_time_modes': [],\n",
              "  'accept_temporary': False,\n",
              "  'professional_roles': [{'id': '96', 'name': 'Программист, разработчик'}],\n",
              "  'accept_incomplete_resumes': False,\n",
              "  'experience': {'id': 'between1And3', 'name': 'От 1 года до 3 лет'},\n",
              "  'employment': {'id': 'full', 'name': 'Полная занятость'},\n",
              "  'adv_response_url': None,\n",
              "  'is_adv_vacancy': False,\n",
              "  'adv_context': None},\n",
              " {'id': '98321422',\n",
              "  'premium': False,\n",
              "  'name': 'Frontend Developer',\n",
              "  'department': None,\n",
              "  'has_test': False,\n",
              "  'response_letter_required': False,\n",
              "  'area': {'id': '1', 'name': 'Москва', 'url': 'https://api.hh.ru/areas/1'},\n",
              "  'salary': {'from': 2000, 'to': 4000, 'currency': 'USD', 'gross': True},\n",
              "  'type': {'id': 'open', 'name': 'Открытая'},\n",
              "  'address': None,\n",
              "  'response_url': None,\n",
              "  'sort_point_distance': None,\n",
              "  'published_at': '2024-05-03T11:41:45+0300',\n",
              "  'created_at': '2024-05-03T11:41:45+0300',\n",
              "  'archived': False,\n",
              "  'apply_alternate_url': 'https://hh.ru/applicant/vacancy_response?vacancyId=98321422',\n",
              "  'show_logo_in_search': None,\n",
              "  'insider_interview': None,\n",
              "  'url': 'https://api.hh.ru/vacancies/98321422?host=hh.ru',\n",
              "  'alternate_url': 'https://hh.ru/vacancy/98321422',\n",
              "  'relations': [],\n",
              "  'employer': {'id': '9091068',\n",
              "   'name': 'Podscribe',\n",
              "   'url': 'https://api.hh.ru/employers/9091068',\n",
              "   'alternate_url': 'https://hh.ru/employer/9091068',\n",
              "   'logo_urls': {'original': 'https://img.hhcdn.ru/employer-logo-original/993741.jpeg',\n",
              "    '90': 'https://img.hhcdn.ru/employer-logo/5595764.jpeg',\n",
              "    '240': 'https://img.hhcdn.ru/employer-logo/5595765.jpeg'},\n",
              "   'vacancies_url': 'https://api.hh.ru/vacancies?employer_id=9091068',\n",
              "   'accredited_it_employer': False,\n",
              "   'trusted': False},\n",
              "  'snippet': {'requirement': 'Skills: - 2+ years of React and Typescript experience. - experience with HTML5 and CSS3. - Python, Node, SQL (bonus). ',\n",
              "   'responsibility': \"We're bootstrapped & profitable, and have grown 3x in the past year.\"},\n",
              "  'contacts': None,\n",
              "  'schedule': {'id': 'fullDay', 'name': 'Полный день'},\n",
              "  'working_days': [],\n",
              "  'working_time_intervals': [],\n",
              "  'working_time_modes': [],\n",
              "  'accept_temporary': False,\n",
              "  'professional_roles': [{'id': '96', 'name': 'Программист, разработчик'}],\n",
              "  'accept_incomplete_resumes': False,\n",
              "  'experience': {'id': 'between1And3', 'name': 'От 1 года до 3 лет'},\n",
              "  'employment': {'id': 'full', 'name': 'Полная занятость'},\n",
              "  'adv_response_url': None,\n",
              "  'is_adv_vacancy': False,\n",
              "  'adv_context': None},\n",
              " {'id': '97150419',\n",
              "  'premium': False,\n",
              "  'name': 'Middle+ Frontend Developer (React)',\n",
              "  'department': None,\n",
              "  'has_test': False,\n",
              "  'response_letter_required': False,\n",
              "  'area': {'id': '1', 'name': 'Москва', 'url': 'https://api.hh.ru/areas/1'},\n",
              "  'salary': None,\n",
              "  'type': {'id': 'open', 'name': 'Открытая'},\n",
              "  'address': None,\n",
              "  'response_url': None,\n",
              "  'sort_point_distance': None,\n",
              "  'published_at': '2024-04-16T19:03:13+0300',\n",
              "  'created_at': '2024-04-16T19:03:13+0300',\n",
              "  'archived': False,\n",
              "  'apply_alternate_url': 'https://hh.ru/applicant/vacancy_response?vacancyId=97150419',\n",
              "  'show_logo_in_search': None,\n",
              "  'insider_interview': None,\n",
              "  'url': 'https://api.hh.ru/vacancies/97150419?host=hh.ru',\n",
              "  'alternate_url': 'https://hh.ru/vacancy/97150419',\n",
              "  'relations': [],\n",
              "  'employer': {'id': '5152443',\n",
              "   'name': 'CCS (Center of Corporate Solution)',\n",
              "   'url': 'https://api.hh.ru/employers/5152443',\n",
              "   'alternate_url': 'https://hh.ru/employer/5152443',\n",
              "   'logo_urls': {'original': 'https://img.hhcdn.ru/employer-logo-original/854290.PNG',\n",
              "    '240': 'https://img.hhcdn.ru/employer-logo/3858036.png',\n",
              "    '90': 'https://img.hhcdn.ru/employer-logo/3858035.png'},\n",
              "   'vacancies_url': 'https://api.hh.ru/vacancies?employer_id=5152443',\n",
              "   'accredited_it_employer': False,\n",
              "   'trusted': True},\n",
              "  'snippet': {'requirement': 'Опыт работы React, Typescript. Понимание принципов работы бандлеров и пакетных менеджеров. Опыт работы с Git. Опыт работы с REST API. ',\n",
              "   'responsibility': 'Проектировать и разрабатывать высоконагруженное веб-приложение с использованием React + SSR. Проводить код ревью. Оптимизировать производительность. Покрывать код тестами.'},\n",
              "  'contacts': None,\n",
              "  'schedule': {'id': 'fullDay', 'name': 'Полный день'},\n",
              "  'working_days': [],\n",
              "  'working_time_intervals': [],\n",
              "  'working_time_modes': [],\n",
              "  'accept_temporary': False,\n",
              "  'professional_roles': [{'id': '96', 'name': 'Программист, разработчик'}],\n",
              "  'accept_incomplete_resumes': False,\n",
              "  'experience': {'id': 'between3And6', 'name': 'От 3 до 6 лет'},\n",
              "  'employment': {'id': 'full', 'name': 'Полная занятость'},\n",
              "  'adv_response_url': None,\n",
              "  'is_adv_vacancy': False,\n",
              "  'adv_context': None},\n",
              " {'id': '98181943',\n",
              "  'premium': False,\n",
              "  'name': 'IOS Разработчик на UIKit',\n",
              "  'department': None,\n",
              "  'has_test': False,\n",
              "  'response_letter_required': False,\n",
              "  'area': {'id': '1', 'name': 'Москва', 'url': 'https://api.hh.ru/areas/1'},\n",
              "  'salary': {'from': 70000, 'to': 150000, 'currency': 'RUR', 'gross': False},\n",
              "  'type': {'id': 'open', 'name': 'Открытая'},\n",
              "  'address': None,\n",
              "  'response_url': None,\n",
              "  'sort_point_distance': None,\n",
              "  'published_at': '2024-05-01T14:57:25+0300',\n",
              "  'created_at': '2024-05-01T14:57:25+0300',\n",
              "  'archived': False,\n",
              "  'apply_alternate_url': 'https://hh.ru/applicant/vacancy_response?vacancyId=98181943',\n",
              "  'show_logo_in_search': None,\n",
              "  'insider_interview': None,\n",
              "  'url': 'https://api.hh.ru/vacancies/98181943?host=hh.ru',\n",
              "  'alternate_url': 'https://hh.ru/vacancy/98181943',\n",
              "  'relations': [],\n",
              "  'employer': {'id': '10910370',\n",
              "   'name': 'Sparrow Code LTD',\n",
              "   'url': 'https://api.hh.ru/employers/10910370',\n",
              "   'alternate_url': 'https://hh.ru/employer/10910370',\n",
              "   'logo_urls': {'original': 'https://img.hhcdn.ru/employer-logo-original/1253270.jpeg',\n",
              "    '90': 'https://img.hhcdn.ru/employer-logo/6633509.jpeg',\n",
              "    '240': 'https://img.hhcdn.ru/employer-logo/6633510.jpeg'},\n",
              "   'vacancies_url': 'https://api.hh.ru/vacancies?employer_id=10910370',\n",
              "   'accredited_it_employer': False,\n",
              "   'trusted': True},\n",
              "  'snippet': {'requirement': 'Прикрепляете над чем работали — ссылка на GitHub или приложение в App Store. Укажите ваш стек и предыдущий опыт. ',\n",
              "   'responsibility': 'сетевые запросы Alamofire, URLSession. - работа с покупками-подписками-оферами через StoreKit 2. - локализация XLIFF XCLOC.'},\n",
              "  'contacts': None,\n",
              "  'schedule': {'id': 'fullDay', 'name': 'Полный день'},\n",
              "  'working_days': [],\n",
              "  'working_time_intervals': [],\n",
              "  'working_time_modes': [],\n",
              "  'accept_temporary': False,\n",
              "  'professional_roles': [{'id': '96', 'name': 'Программист, разработчик'}],\n",
              "  'accept_incomplete_resumes': False,\n",
              "  'experience': {'id': 'noExperience', 'name': 'Нет опыта'},\n",
              "  'employment': {'id': 'full', 'name': 'Полная занятость'},\n",
              "  'adv_response_url': None,\n",
              "  'is_adv_vacancy': False,\n",
              "  'adv_context': None},\n",
              " {'id': '98210833',\n",
              "  'premium': False,\n",
              "  'name': 'Frontend-разработчик',\n",
              "  'department': None,\n",
              "  'has_test': False,\n",
              "  'response_letter_required': False,\n",
              "  'area': {'id': '1', 'name': 'Москва', 'url': 'https://api.hh.ru/areas/1'},\n",
              "  'salary': None,\n",
              "  'type': {'id': 'open', 'name': 'Открытая'},\n",
              "  'address': None,\n",
              "  'response_url': None,\n",
              "  'sort_point_distance': None,\n",
              "  'published_at': '2024-05-02T09:57:37+0300',\n",
              "  'created_at': '2024-05-02T09:57:37+0300',\n",
              "  'archived': False,\n",
              "  'apply_alternate_url': 'https://hh.ru/applicant/vacancy_response?vacancyId=98210833',\n",
              "  'show_logo_in_search': None,\n",
              "  'insider_interview': None,\n",
              "  'url': 'https://api.hh.ru/vacancies/98210833?host=hh.ru',\n",
              "  'alternate_url': 'https://hh.ru/vacancy/98210833',\n",
              "  'relations': [],\n",
              "  'employer': {'id': '185755',\n",
              "   'name': 'Группа страховых компаний Югория',\n",
              "   'url': 'https://api.hh.ru/employers/185755',\n",
              "   'alternate_url': 'https://hh.ru/employer/185755',\n",
              "   'logo_urls': {'original': 'https://img.hhcdn.ru/employer-logo-original/800516.png',\n",
              "    '90': 'https://img.hhcdn.ru/employer-logo/3642951.png',\n",
              "    '240': 'https://img.hhcdn.ru/employer-logo/3642952.png'},\n",
              "   'vacancies_url': 'https://api.hh.ru/vacancies?employer_id=185755',\n",
              "   'accredited_it_employer': False,\n",
              "   'trusted': True},\n",
              "  'snippet': {'requirement': 'Отличные знания HTML/HTML5, CSS/CSS3. Опыт работы с препроцессором SASS. Уверенное владения JavaScript, Angular9+. ',\n",
              "   'responsibility': None},\n",
              "  'contacts': None,\n",
              "  'schedule': {'id': 'fullDay', 'name': 'Полный день'},\n",
              "  'working_days': [],\n",
              "  'working_time_intervals': [],\n",
              "  'working_time_modes': [],\n",
              "  'accept_temporary': False,\n",
              "  'professional_roles': [{'id': '96', 'name': 'Программист, разработчик'}],\n",
              "  'accept_incomplete_resumes': False,\n",
              "  'experience': {'id': 'between1And3', 'name': 'От 1 года до 3 лет'},\n",
              "  'employment': {'id': 'full', 'name': 'Полная занятость'},\n",
              "  'adv_response_url': None,\n",
              "  'is_adv_vacancy': False,\n",
              "  'adv_context': None},\n",
              " {'id': '98155438',\n",
              "  'premium': False,\n",
              "  'name': 'Frontend-разработчик (junior)',\n",
              "  'department': None,\n",
              "  'has_test': False,\n",
              "  'response_letter_required': False,\n",
              "  'area': {'id': '1', 'name': 'Москва', 'url': 'https://api.hh.ru/areas/1'},\n",
              "  'salary': None,\n",
              "  'type': {'id': 'open', 'name': 'Открытая'},\n",
              "  'address': None,\n",
              "  'response_url': None,\n",
              "  'sort_point_distance': None,\n",
              "  'published_at': '2024-04-30T11:23:35+0300',\n",
              "  'created_at': '2024-04-30T11:23:35+0300',\n",
              "  'archived': False,\n",
              "  'apply_alternate_url': 'https://hh.ru/applicant/vacancy_response?vacancyId=98155438',\n",
              "  'show_logo_in_search': None,\n",
              "  'insider_interview': None,\n",
              "  'url': 'https://api.hh.ru/vacancies/98155438?host=hh.ru',\n",
              "  'alternate_url': 'https://hh.ru/vacancy/98155438',\n",
              "  'relations': [],\n",
              "  'employer': {'id': '4813742',\n",
              "   'name': 'Аренадата Софтвер',\n",
              "   'url': 'https://api.hh.ru/employers/4813742',\n",
              "   'alternate_url': 'https://hh.ru/employer/4813742',\n",
              "   'logo_urls': {'original': 'https://img.hhcdn.ru/employer-logo-original/767259.png',\n",
              "    '90': 'https://img.hhcdn.ru/employer-logo/3509993.png',\n",
              "    '240': 'https://img.hhcdn.ru/employer-logo/3509994.png'},\n",
              "   'vacancies_url': 'https://api.hh.ru/vacancies?employer_id=4813742',\n",
              "   'accredited_it_employer': False,\n",
              "   'trusted': True},\n",
              "  'snippet': {'requirement': 'Знаете docker (docker compose). Будет большим плюсом, если Вы: находили узкие места в производительности, аргументировали необходимость в их исправлении и...',\n",
              "   'responsibility': 'Arenadata Catalog базируется на технологиях с открытым исходным кодом, полностью адаптирован для использования в российских коммерческих и государственных организациях, входит...'},\n",
              "  'contacts': None,\n",
              "  'schedule': {'id': 'fullDay', 'name': 'Полный день'},\n",
              "  'working_days': [],\n",
              "  'working_time_intervals': [],\n",
              "  'working_time_modes': [],\n",
              "  'accept_temporary': False,\n",
              "  'professional_roles': [{'id': '96', 'name': 'Программист, разработчик'}],\n",
              "  'accept_incomplete_resumes': False,\n",
              "  'experience': {'id': 'between1And3', 'name': 'От 1 года до 3 лет'},\n",
              "  'employment': {'id': 'full', 'name': 'Полная занятость'},\n",
              "  'adv_response_url': None,\n",
              "  'is_adv_vacancy': False,\n",
              "  'adv_context': None},\n",
              " {'id': '98317694',\n",
              "  'premium': False,\n",
              "  'name': 'Golang developer (junior)',\n",
              "  'department': None,\n",
              "  'has_test': False,\n",
              "  'response_letter_required': False,\n",
              "  'area': {'id': '1', 'name': 'Москва', 'url': 'https://api.hh.ru/areas/1'},\n",
              "  'salary': None,\n",
              "  'type': {'id': 'open', 'name': 'Открытая'},\n",
              "  'address': {'city': 'Москва',\n",
              "   'street': 'Крылатская улица',\n",
              "   'building': '15',\n",
              "   'lat': 55.769838,\n",
              "   'lng': 37.426492,\n",
              "   'description': None,\n",
              "   'raw': 'Москва, Крылатская улица, 15',\n",
              "   'metro': None,\n",
              "   'metro_stations': [],\n",
              "   'id': '14779937'},\n",
              "  'response_url': None,\n",
              "  'sort_point_distance': None,\n",
              "  'published_at': '2024-05-03T11:18:09+0300',\n",
              "  'created_at': '2024-05-03T11:18:09+0300',\n",
              "  'archived': False,\n",
              "  'apply_alternate_url': 'https://hh.ru/applicant/vacancy_response?vacancyId=98317694',\n",
              "  'branding': {'type': 'MAKEUP', 'tariff': None},\n",
              "  'show_logo_in_search': True,\n",
              "  'insider_interview': None,\n",
              "  'url': 'https://api.hh.ru/vacancies/98317694?host=hh.ru',\n",
              "  'alternate_url': 'https://hh.ru/vacancy/98317694',\n",
              "  'relations': [],\n",
              "  'employer': {'id': '9418714',\n",
              "   'name': 'Lamoda Tech',\n",
              "   'url': 'https://api.hh.ru/employers/9418714',\n",
              "   'alternate_url': 'https://hh.ru/employer/9418714',\n",
              "   'logo_urls': {'original': 'https://img.hhcdn.ru/employer-logo-original/1072130.png',\n",
              "    '240': 'https://img.hhcdn.ru/employer-logo/5909150.png',\n",
              "    '90': 'https://img.hhcdn.ru/employer-logo/5909149.png'},\n",
              "   'vacancies_url': 'https://api.hh.ru/vacancies?employer_id=9418714',\n",
              "   'accredited_it_employer': True,\n",
              "   'trusted': True},\n",
              "  'snippet': {'requirement': 'Наличие опыта коммерческой разработки бэкенда на Golang от 7 месяцев. Опыт работы с SQL базами данных. Умение проектировать API сервисов. ',\n",
              "   'responsibility': 'Писать новые и развивать существующие сервисы на Go. Участвовать в анализе, проектировании и оценке технических решений вместе с командой. '},\n",
              "  'contacts': None,\n",
              "  'schedule': {'id': 'fullDay', 'name': 'Полный день'},\n",
              "  'working_days': [],\n",
              "  'working_time_intervals': [],\n",
              "  'working_time_modes': [],\n",
              "  'accept_temporary': False,\n",
              "  'professional_roles': [{'id': '96', 'name': 'Программист, разработчик'}],\n",
              "  'accept_incomplete_resumes': False,\n",
              "  'experience': {'id': 'between1And3', 'name': 'От 1 года до 3 лет'},\n",
              "  'employment': {'id': 'full', 'name': 'Полная занятость'},\n",
              "  'adv_response_url': None,\n",
              "  'is_adv_vacancy': False,\n",
              "  'adv_context': None},\n",
              " {'id': '98330325',\n",
              "  'premium': False,\n",
              "  'name': 'FrontEnd разработчик',\n",
              "  'department': None,\n",
              "  'has_test': False,\n",
              "  'response_letter_required': False,\n",
              "  'area': {'id': '1', 'name': 'Москва', 'url': 'https://api.hh.ru/areas/1'},\n",
              "  'salary': None,\n",
              "  'type': {'id': 'open', 'name': 'Открытая'},\n",
              "  'address': {'city': 'Долгопрудный',\n",
              "   'street': None,\n",
              "   'building': None,\n",
              "   'lat': 55.933564,\n",
              "   'lng': 37.514104,\n",
              "   'description': None,\n",
              "   'raw': 'Долгопрудный',\n",
              "   'metro': {'station_name': 'Новодачная',\n",
              "    'line_name': 'МЦД-1',\n",
              "    'station_id': '131.692',\n",
              "    'line_id': '131',\n",
              "    'lat': 55.924459,\n",
              "    'lng': 37.527877},\n",
              "   'metro_stations': [{'station_name': 'Новодачная',\n",
              "     'line_name': 'МЦД-1',\n",
              "     'station_id': '131.692',\n",
              "     'line_id': '131',\n",
              "     'lat': 55.924459,\n",
              "     'lng': 37.527877}],\n",
              "   'id': '3908779'},\n",
              "  'response_url': None,\n",
              "  'sort_point_distance': None,\n",
              "  'published_at': '2024-05-03T12:40:00+0300',\n",
              "  'created_at': '2024-05-03T12:40:00+0300',\n",
              "  'archived': False,\n",
              "  'apply_alternate_url': 'https://hh.ru/applicant/vacancy_response?vacancyId=98330325',\n",
              "  'branding': {'type': 'MAKEUP', 'tariff': None},\n",
              "  'show_logo_in_search': True,\n",
              "  'insider_interview': None,\n",
              "  'url': 'https://api.hh.ru/vacancies/98330325?host=hh.ru',\n",
              "  'alternate_url': 'https://hh.ru/vacancy/98330325',\n",
              "  'relations': [],\n",
              "  'employer': {'id': '11580',\n",
              "   'name': 'Фармстандарт',\n",
              "   'url': 'https://api.hh.ru/employers/11580',\n",
              "   'alternate_url': 'https://hh.ru/employer/11580',\n",
              "   'logo_urls': {'240': 'https://img.hhcdn.ru/employer-logo/706524.jpeg',\n",
              "    '90': 'https://img.hhcdn.ru/employer-logo/706523.jpeg',\n",
              "    'original': 'https://img.hhcdn.ru/employer-logo-original/229564.jpg'},\n",
              "   'vacancies_url': 'https://api.hh.ru/vacancies?employer_id=11580',\n",
              "   'accredited_it_employer': False,\n",
              "   'trusted': True},\n",
              "  'snippet': {'requirement': 'Хорошие знания JavaScript и опыт работы с ООП. Практический опыт проектирования и разработки на React. Знание протокола HTTP/HTTPS и...',\n",
              "   'responsibility': 'Поддержание существующих проектов и разработка новых. Разработка интерфейсов приложений на React с иcпользованием библиотеки mantine. Существующие проекты реализованы с использованием...'},\n",
              "  'contacts': None,\n",
              "  'schedule': {'id': 'fullDay', 'name': 'Полный день'},\n",
              "  'working_days': [],\n",
              "  'working_time_intervals': [],\n",
              "  'working_time_modes': [],\n",
              "  'accept_temporary': False,\n",
              "  'professional_roles': [{'id': '96', 'name': 'Программист, разработчик'}],\n",
              "  'accept_incomplete_resumes': False,\n",
              "  'experience': {'id': 'between1And3', 'name': 'От 1 года до 3 лет'},\n",
              "  'employment': {'id': 'full', 'name': 'Полная занятость'},\n",
              "  'adv_response_url': None,\n",
              "  'is_adv_vacancy': False,\n",
              "  'adv_context': None}]"
            ]
          },
          "metadata": {},
          "execution_count": 5
        }
      ]
    },
    {
      "cell_type": "markdown",
      "source": [
        ">**Примечание**\n",
        ">\n",
        ">В `data['pages']` будет хранится количество найденных страниц вакансий - для корректного сбора данных Вам нужно пробежать по **КАЖДОЙ** странице и сделать соотвествующие запросы."
      ],
      "metadata": {
        "id": "O-qAwsmrTAvQ"
      }
    },
    {
      "cell_type": "markdown",
      "source": [
        ">**Совет**\n",
        ">\n",
        ">Посмотрите что хранится в `items`!"
      ],
      "metadata": {
        "id": "OEPOQVYxsMyN"
      }
    },
    {
      "cell_type": "markdown",
      "source": [
        "(1 балл) Выберете для нас 5 наиболее интересных специальностей и получите по ним имеющиеся вакансии:"
      ],
      "metadata": {
        "id": "JWvkFrh9qhkj"
      }
    },
    {
      "cell_type": "code",
      "source": [
        "# your code here"
      ],
      "metadata": {
        "id": "_Nm-vyiBqugq"
      },
      "execution_count": null,
      "outputs": []
    },
    {
      "cell_type": "markdown",
      "source": [
        "(1 балл) Посчитайте сколько всего найдено вакансий:"
      ],
      "metadata": {
        "id": "g0bdgyNWquuY"
      }
    },
    {
      "cell_type": "code",
      "source": [
        "# your code here"
      ],
      "metadata": {
        "id": "lxyXtIs6q5cc"
      },
      "execution_count": null,
      "outputs": []
    },
    {
      "cell_type": "markdown",
      "source": [
        "(1 балл) Создайте структуру данных, которая будет хранить в себе имя компании и ее координаты (широта и долгота):"
      ],
      "metadata": {
        "id": "wQeULnNyq5wk"
      }
    },
    {
      "cell_type": "code",
      "source": [
        "class Company:\n",
        "    # your code here"
      ],
      "metadata": {
        "id": "aR501yltVdLm"
      },
      "execution_count": null,
      "outputs": []
    },
    {
      "cell_type": "markdown",
      "source": [
        "(1 балл) Создайте экземпляр этой структуры данных для каждой компании, которая выставила вакансию:"
      ],
      "metadata": {
        "id": "ccIi3wIvVkG0"
      }
    },
    {
      "cell_type": "code",
      "source": [
        "# your code here"
      ],
      "metadata": {
        "id": "tR6mYW7jtcCQ"
      },
      "execution_count": null,
      "outputs": []
    },
    {
      "cell_type": "markdown",
      "source": [
        "(1 балл) Найдите количество вакансий, у которых заданы координаты (значения данных может быть пустым):"
      ],
      "metadata": {
        "id": "SyBpNd0vtcNu"
      }
    },
    {
      "cell_type": "code",
      "source": [
        "# your code here"
      ],
      "metadata": {
        "id": "lVgNCVALt2qJ"
      },
      "execution_count": null,
      "outputs": []
    },
    {
      "cell_type": "markdown",
      "source": [
        "(1 балл) Отберите вакансии, которые расположены в пределах МКАД (можно грубо):"
      ],
      "metadata": {
        "id": "aWNXrM-cu5Vi"
      }
    },
    {
      "cell_type": "code",
      "source": [
        "# your code here"
      ],
      "metadata": {
        "id": "01g9wVEyyn-J"
      },
      "execution_count": null,
      "outputs": []
    },
    {
      "cell_type": "markdown",
      "source": [
        "(1 балл) Постройте график в координатах \"широта-долгота\" для отображения вакансий внутри МКАД (не забывайте прописать прозрачность, чтобы увидеть скопления):"
      ],
      "metadata": {
        "id": "4LCb9IL_bgB_"
      }
    },
    {
      "cell_type": "code",
      "source": [
        "# your code here"
      ],
      "metadata": {
        "id": "6ogiXDvKcDV8"
      },
      "execution_count": null,
      "outputs": []
    },
    {
      "cell_type": "markdown",
      "source": [
        "(1 балл) Нанесите все точки вакансий на карту (для этого вам поможет данная <a target=\"_blank\" href=\"https://plotly.com/python/mapbox-layers/\">документации</a>, не забудьте про прозрачность и центрирование по Москве):"
      ],
      "metadata": {
        "id": "YvS8b7eqt214"
      }
    },
    {
      "cell_type": "code",
      "source": [
        "# your code here"
      ],
      "metadata": {
        "id": "1ceHEBdAys8o"
      },
      "execution_count": null,
      "outputs": []
    },
    {
      "cell_type": "markdown",
      "source": [
        "(2 балла) **Сделайте выводы о проделанной работе:**"
      ],
      "metadata": {
        "id": "u-p3Llc361PN"
      }
    },
    {
      "cell_type": "markdown",
      "source": [
        ">*Подсказки для маленьких: Что вы можете сказать про районы Москвы? Что вы можете сказать про зарплаты? Что вы можете сказать про спрос?*"
      ],
      "metadata": {
        "id": "G1c3d-qALobz"
      }
    },
    {
      "cell_type": "markdown",
      "source": [
        "Ваши выводы здесь :)"
      ],
      "metadata": {
        "id": "gkPpbtBuVqwc"
      }
    },
    {
      "cell_type": "markdown",
      "source": [
        "## Задание 2. Анализ данных - 20 баллов"
      ],
      "metadata": {
        "id": "wVcCTF_Zz58q"
      }
    },
    {
      "cell_type": "markdown",
      "source": [
        "Вам предстоит проанализировать датасет, содержащий информацию об бриллианта, их стоимости и остальных характеристиках."
      ],
      "metadata": {
        "id": "lii5YFuucxR2"
      }
    },
    {
      "cell_type": "markdown",
      "source": [
        "\n",
        "\n",
        "Поясним значения хранящиеся в колонках:\n",
        "*   `cut` - огранка бриллианта (относится к одной из примерно 10 наиболее распространенных)\n",
        "*   `color` - цвет бриллианта, прозрачные бриллианты имеют градацию `D-Z`, \"более высокие\" буквы - более желтоватые, но часто имеют лучшие значения, поскольку цвет трудно определить один раз в кольце\n",
        "*   `clarity` - чистота бриллианта, наличие включений (внутренних дефектов), чем меньше и мельче, тем лучше\n",
        "*   `carat_weight` - масса бриллианта (слабо связана с размером бриллианта, т.к. огранка и качество огранки, как правило, играют большую роль)\n",
        "*   `cut_quality` - качество ограники по системе оценки GIA Cut\n",
        "*   `lab` - лаборатория оценивания\n",
        "*   `meas_length` - длина бриллианта\n",
        "*   `meas_width` - ширина бриллианта\n",
        "*   `meas_depth` - глубина бриллианта\n",
        "*   `total_sales_price` - цена бриллианта в долларах.\n",
        "*    **и прочие колонки**"
      ],
      "metadata": {
        "id": "CvEO3-NI0Gez"
      }
    },
    {
      "cell_type": "markdown",
      "source": [
        "Скачаем данные:"
      ],
      "metadata": {
        "id": "7mK1QntN6ZXh"
      }
    },
    {
      "cell_type": "code",
      "source": [
        "!gdown 10OJ30qlkE-7zK4JuVTDMY3U4nRB4tu_8"
      ],
      "metadata": {
        "id": "LnCK3gCoebjw"
      },
      "execution_count": null,
      "outputs": []
    },
    {
      "cell_type": "markdown",
      "source": [
        "Создадим DataFrame:"
      ],
      "metadata": {
        "id": "wfSqVYoIfi3-"
      }
    },
    {
      "cell_type": "code",
      "source": [
        "diamonds = pd.read_csv(\"diamonds.csv\")"
      ],
      "metadata": {
        "id": "cDgRJzRp6Ow4"
      },
      "execution_count": null,
      "outputs": []
    },
    {
      "cell_type": "markdown",
      "source": [
        "(0.5 балла) Выведете первые 5 строк датасета:"
      ],
      "metadata": {
        "id": "vlw_3lXG6bhv"
      }
    },
    {
      "cell_type": "code",
      "source": [
        "# your code here"
      ],
      "metadata": {
        "id": "gHA-AnSE6fth"
      },
      "execution_count": null,
      "outputs": []
    },
    {
      "cell_type": "markdown",
      "source": [
        "(0.5 балла) Найдите количество бриллиантов всего в данном датасете:"
      ],
      "metadata": {
        "id": "gat7bnPQ6fCE"
      }
    },
    {
      "cell_type": "code",
      "source": [
        "# your code here"
      ],
      "metadata": {
        "id": "-9x6z3-J7C-v"
      },
      "execution_count": null,
      "outputs": []
    },
    {
      "cell_type": "markdown",
      "source": [
        "(0.5 балла) Выведите максимальную и минимальную цену бриллианта в формате `номер - цена`:"
      ],
      "metadata": {
        "id": "fYQuIdtL7DFp"
      }
    },
    {
      "cell_type": "code",
      "source": [
        "# your code here"
      ],
      "metadata": {
        "id": "D_7sjzjP7SEj"
      },
      "execution_count": null,
      "outputs": []
    },
    {
      "cell_type": "markdown",
      "source": [
        "(1 балл) Посчитайте количество пропусков (пропуском считается значение `unknown` или `None`):"
      ],
      "metadata": {
        "id": "E2mf4IIO7SOg"
      }
    },
    {
      "cell_type": "code",
      "source": [
        "# your code here"
      ],
      "metadata": {
        "id": "BuJZ0UoN7qAU"
      },
      "execution_count": null,
      "outputs": []
    },
    {
      "cell_type": "markdown",
      "source": [
        "(1 балл) Найдите в каких столбцах присутствуют пропуски:"
      ],
      "metadata": {
        "id": "d5LWUc_fh0vb"
      }
    },
    {
      "cell_type": "code",
      "source": [
        "# your code here"
      ],
      "metadata": {
        "id": "IsU49Fouh5vy"
      },
      "execution_count": null,
      "outputs": []
    },
    {
      "cell_type": "markdown",
      "source": [
        "В нашем датасете присутствуют колонки, которые начинаются с `fancy_color_` или `fluor_`. Большинство значений в этих колонках - `unknown` или `None`, поэтому мы считаем их малоинформативными."
      ],
      "metadata": {
        "id": "UznNZpJ47qGX"
      }
    },
    {
      "cell_type": "markdown",
      "source": [
        "Ваша задача:"
      ],
      "metadata": {
        "id": "Rkk6Hr2Ui87X"
      }
    },
    {
      "cell_type": "markdown",
      "source": [
        "1. (0.5 балла) найти количество таких колонок, которые начинаются с `fancy_color_` или `fluor_`:"
      ],
      "metadata": {
        "id": "YYBDAgSSi-JU"
      }
    },
    {
      "cell_type": "code",
      "source": [
        "# your code here"
      ],
      "metadata": {
        "id": "nbTUkk4T8-wO"
      },
      "execution_count": null,
      "outputs": []
    },
    {
      "cell_type": "markdown",
      "source": [
        "2. (0.5 балла) найти количество информативных (не `None` или `unknown`) значений в этих колонках:"
      ],
      "metadata": {
        "id": "imop6nNujA6z"
      }
    },
    {
      "cell_type": "code",
      "source": [
        "# your code here"
      ],
      "metadata": {
        "id": "jtJcBwAVjPHU"
      },
      "execution_count": null,
      "outputs": []
    },
    {
      "cell_type": "markdown",
      "source": [
        "3. (0.5 балла) удалить данные колонки из датасета, сохранив изменения (в дальнейшем работаем измененным датасетом):"
      ],
      "metadata": {
        "id": "wFbuTnkbjPeq"
      }
    },
    {
      "cell_type": "code",
      "source": [
        "# your code here"
      ],
      "metadata": {
        "id": "qSZ5cmKWjutz"
      },
      "execution_count": null,
      "outputs": []
    },
    {
      "cell_type": "markdown",
      "source": [
        "(1 балл) Проделайте тоже самое для колонок, начинающихся с `culet_`:"
      ],
      "metadata": {
        "id": "JID3q4vr8-2h"
      }
    },
    {
      "cell_type": "code",
      "source": [
        "# your code here"
      ],
      "metadata": {
        "id": "Wfsvzyad-T6P"
      },
      "execution_count": null,
      "outputs": []
    },
    {
      "cell_type": "markdown",
      "source": [
        "(1 балл) Посчитайте сколько бы стоил (в тысячах долларов) сейф, в котором хранились бы все бриллианты из датасета:"
      ],
      "metadata": {
        "id": "7_qYv5Xm-UCz"
      }
    },
    {
      "cell_type": "code",
      "source": [
        "# your code here"
      ],
      "metadata": {
        "id": "g2wVyz5U-cx7"
      },
      "execution_count": null,
      "outputs": []
    },
    {
      "cell_type": "markdown",
      "source": [
        "Немного необоснованных манипуляций."
      ],
      "metadata": {
        "id": "GVwspHrUkRFv"
      }
    },
    {
      "cell_type": "markdown",
      "source": [
        "(1 балл) Выберите из датасета строки с четными индексами и выведете значения (не меняя нумерацию индексов):"
      ],
      "metadata": {
        "id": "0j5Yr0mFxxfu"
      }
    },
    {
      "cell_type": "code",
      "source": [
        "# your code here"
      ],
      "metadata": {
        "id": "dW2GOROfx6yd"
      },
      "execution_count": null,
      "outputs": []
    },
    {
      "cell_type": "markdown",
      "source": [
        "(0.5 балла) А теперь с индексами, кратными 6:"
      ],
      "metadata": {
        "id": "mNXqS4oox7TF"
      }
    },
    {
      "cell_type": "code",
      "source": [
        "# your code here"
      ],
      "metadata": {
        "id": "hy8LyzXix_SB"
      },
      "execution_count": null,
      "outputs": []
    },
    {
      "cell_type": "markdown",
      "source": [
        "(1 балл) Выберете из датасета только категорильные признаки и выведете датасет:"
      ],
      "metadata": {
        "id": "u94LL979x_bV"
      }
    },
    {
      "cell_type": "code",
      "source": [
        "# your code here"
      ],
      "metadata": {
        "id": "2_LBNDWXyOOl"
      },
      "execution_count": null,
      "outputs": []
    },
    {
      "cell_type": "markdown",
      "source": [
        ">**Примечание**\n",
        ">\n",
        ">Данный датасет можно использовать для задания 3 (с использованием `sklearn`)"
      ],
      "metadata": {
        "id": "QANg8ziJkHGM"
      }
    },
    {
      "cell_type": "markdown",
      "source": [
        "(0.5 балла) Выберете столбец с данными о цене бриллиантов и домножите его на тот столбец, только транспонированный, и выведите полученную матрицу:"
      ],
      "metadata": {
        "id": "mV9jLhspyOgz"
      }
    },
    {
      "cell_type": "code",
      "source": [
        "# your code here"
      ],
      "metadata": {
        "id": "LawjtnoIymFu"
      },
      "execution_count": null,
      "outputs": []
    },
    {
      "cell_type": "markdown",
      "source": [
        "### Построение графиков"
      ],
      "metadata": {
        "id": "Pz02uapbkbGk"
      }
    },
    {
      "cell_type": "markdown",
      "source": [
        "**Требования к графику:**\n",
        "\n",
        "1.   График должен быть подписан\n",
        "2.   Оси должны быть подписаны\n",
        "3.   Должна быть легенда графика\n",
        "4.   График должен быть информативным (желательно без сильных выбросов)\n",
        "\n",
        "**Все надписи на русском языке!**"
      ],
      "metadata": {
        "id": "_zhww-rd-c5c"
      }
    },
    {
      "cell_type": "markdown",
      "source": [
        ">**Примечание**\n",
        ">\n",
        ">График необходимо строить для очищенных данных - в них не должно быть пропусков по осям, по которым строите график. При этом **не перезатирайте** имеющийся датафрейм!"
      ],
      "metadata": {
        "id": "mfebCvk0k2mo"
      }
    },
    {
      "cell_type": "markdown",
      "source": [
        "(2 балла) Постройте график `цвет бриллианта - стоимость`:"
      ],
      "metadata": {
        "id": "4R9Rwxdq-l21"
      }
    },
    {
      "cell_type": "code",
      "source": [
        "# your code here"
      ],
      "metadata": {
        "id": "Fo6I0j5o-vQh"
      },
      "execution_count": null,
      "outputs": []
    },
    {
      "cell_type": "markdown",
      "source": [
        "(2 балла) Постройте график `лабараторная оценка - кол-во бриллиантов`:"
      ],
      "metadata": {
        "id": "W_UgFji5-vWx"
      }
    },
    {
      "cell_type": "code",
      "source": [
        "# your code here"
      ],
      "metadata": {
        "id": "nyT8-TRb_c24"
      },
      "execution_count": null,
      "outputs": []
    },
    {
      "cell_type": "markdown",
      "source": [
        "(2 балла) Постройте график `вес бриллианта - стоимость`:"
      ],
      "metadata": {
        "id": "AgsMclnJ_c9H"
      }
    },
    {
      "cell_type": "code",
      "source": [
        "# your code here"
      ],
      "metadata": {
        "id": "tn-x3pwmANQe"
      },
      "execution_count": null,
      "outputs": []
    },
    {
      "cell_type": "markdown",
      "source": [
        "(2 балла) Постройте график `система оценки GIA Cut - кол-во бриллиантов`:"
      ],
      "metadata": {
        "id": "0LVC1KfEAwuw"
      }
    },
    {
      "cell_type": "code",
      "source": [
        "# your code here"
      ],
      "metadata": {
        "id": "IeuLooSIA232"
      },
      "execution_count": null,
      "outputs": []
    },
    {
      "cell_type": "markdown",
      "source": [
        "(2 балла) **Сделайте выводы по построенным графикам:**"
      ],
      "metadata": {
        "id": "DRaaNLidFDhL"
      }
    },
    {
      "cell_type": "markdown",
      "source": [
        ">*Подсказка для маленьких: Что вы можете сказать о графиках полученных выше для данного датасета?*"
      ],
      "metadata": {
        "id": "GSuWCfdGLtn0"
      }
    },
    {
      "cell_type": "markdown",
      "source": [
        "Ваши выводы здесь :)"
      ],
      "metadata": {
        "id": "iNdjR_X9lSt1"
      }
    },
    {
      "cell_type": "markdown",
      "source": [
        "## Задание 3. Модель - 30 баллов"
      ],
      "metadata": {
        "id": "JKYRkX_rBxxu"
      }
    },
    {
      "cell_type": "markdown",
      "source": [
        "В данном задании вам предстоит построить классифицирующую модель размер алмаза и его стоимости, а затем оценить полученную модель."
      ],
      "metadata": {
        "id": "EJO9SwpII_uJ"
      }
    },
    {
      "cell_type": "markdown",
      "source": [
        ">**Примечание**\n",
        ">\n",
        ">Данная модель не претендует на самый верный индикатор стоимости алмаза, ведь мы не учитываем ничего больше чем стоимость алмаза. Исключительно для образовательных целей :)"
      ],
      "metadata": {
        "id": "_8sA1qlRllrk"
      }
    },
    {
      "cell_type": "markdown",
      "source": [
        "Для построения модели нам понадобится 4 столбца, а именно:\n",
        "- `meas_length`\n",
        "- `meas_width`\n",
        "- `meas_depth`\n",
        "- `total_sales_price`\n",
        "\n",
        "От остальных столбцов можно избавиться."
      ],
      "metadata": {
        "id": "e78rVEGFJrVN"
      }
    },
    {
      "cell_type": "markdown",
      "source": [
        "(1 балл) Создайте новый датасет и выведите его первые 10 строк:"
      ],
      "metadata": {
        "id": "HhpeXcR1l-Ag"
      }
    },
    {
      "cell_type": "code",
      "source": [
        "# your code here"
      ],
      "metadata": {
        "id": "K87VXeCxKFrU"
      },
      "execution_count": null,
      "outputs": []
    },
    {
      "cell_type": "markdown",
      "source": [
        "(1 балл) Перемешайте строки в датафрейме случайным образом:"
      ],
      "metadata": {
        "id": "Uex8DVspKFxn"
      }
    },
    {
      "cell_type": "code",
      "source": [
        "# your code here"
      ],
      "metadata": {
        "id": "5lRYIwGOKOnT"
      },
      "execution_count": null,
      "outputs": []
    },
    {
      "cell_type": "markdown",
      "source": [
        "(1 балл) Сформируем новую колонку - для каждого бриллианта найдем сумму Минковского (p=3) по 3 измерениям бриллианта:"
      ],
      "metadata": {
        "id": "iEHBNONDLl64"
      }
    },
    {
      "cell_type": "code",
      "source": [
        "# your code here"
      ],
      "metadata": {
        "id": "V3CTAQbAMQsR"
      },
      "execution_count": null,
      "outputs": []
    },
    {
      "cell_type": "markdown",
      "source": [
        "(1 балл) Сформируем новый датасет из двух колонок - сумма Минковского и `total_sales_price`:"
      ],
      "metadata": {
        "id": "z5s5_yB8n1Hp"
      }
    },
    {
      "cell_type": "code",
      "source": [
        "# your code here"
      ],
      "metadata": {
        "id": "tXxZnWS7n9q0"
      },
      "execution_count": null,
      "outputs": []
    },
    {
      "cell_type": "markdown",
      "source": [
        "(1 балл) Разделите вашу выборку на две части в соотношении 8:2 - одна выборка будет для тренировка, а другая для тестов вашей модели:"
      ],
      "metadata": {
        "id": "aXCp0GmUKOvM"
      }
    },
    {
      "cell_type": "code",
      "source": [
        "# your code here"
      ],
      "metadata": {
        "id": "rxwHhdnFK3Lz"
      },
      "execution_count": null,
      "outputs": []
    },
    {
      "cell_type": "markdown",
      "source": [
        "(2 балла) Постройте график зависимости стоимости от вашего нового параметра размера для тренинг-выборки:"
      ],
      "metadata": {
        "id": "lhuRoIMRK3S3"
      }
    },
    {
      "cell_type": "code",
      "source": [
        "# your code here"
      ],
      "metadata": {
        "id": "zdXv0wimNNZq"
      },
      "execution_count": null,
      "outputs": []
    },
    {
      "cell_type": "markdown",
      "source": [
        "(2 балла) Нанесите на тот же график тестовую выборку, используя другой цвет (не забудьте про параметр прозрачности):"
      ],
      "metadata": {
        "id": "0cUx_FSiNOUx"
      }
    },
    {
      "cell_type": "code",
      "source": [
        "# your code here"
      ],
      "metadata": {
        "id": "R09w4W7VNnM2"
      },
      "execution_count": null,
      "outputs": []
    },
    {
      "cell_type": "markdown",
      "source": [
        "(3 балла) Найдите для каждой бриллианта из тестовой выборки его \"ближайшего соседа\" из тренинг-выборки. Для каждого бриллианта из тестовой выборки найдите расстояния до соответствующего ближайшего соседа:"
      ],
      "metadata": {
        "id": "VwIIccnpNnVj"
      }
    },
    {
      "cell_type": "code",
      "source": [
        "# your code here"
      ],
      "metadata": {
        "id": "t_jpKJ54OBb0"
      },
      "execution_count": null,
      "outputs": []
    },
    {
      "cell_type": "markdown",
      "source": [
        "(3 балла) Найдите насколько сильно (в процентах) отличается цена бриллиантов из тестовой выборки от их соответствующих ближайших соседей:"
      ],
      "metadata": {
        "id": "7R0uaHqurV_u"
      }
    },
    {
      "cell_type": "code",
      "source": [
        "# your code here"
      ],
      "metadata": {
        "id": "Uy2ngWJ4rn-4"
      },
      "execution_count": null,
      "outputs": []
    },
    {
      "cell_type": "markdown",
      "source": [
        "**Данная модель является выдумкой автора. Не важен коэффициент ошибки, важны ваши шаги для получения коэффициента.**"
      ],
      "metadata": {
        "id": "tl0CHY6_OAxU"
      }
    },
    {
      "cell_type": "markdown",
      "source": [
        "### Введение в машинное обучение"
      ],
      "metadata": {
        "id": "AbrAdKSUrqz5"
      }
    },
    {
      "cell_type": "markdown",
      "source": [
        "Теперь давайте познакомимся с таким сильным инструментом как `sklearn`."
      ],
      "metadata": {
        "id": "I6sqXZLYuox4"
      }
    },
    {
      "cell_type": "markdown",
      "source": [
        "Вам необходимо:\n",
        "1. выбрать 2 категориальных признака\n",
        "2. на их основе обучить решающее дерево\n",
        "3. оценить среднеквадратичную ошибку цены бриллианта\n",
        "4. сделать пп. 1-3 и выбрать ту пару, которая дает лучший результат\n",
        "5. сделать выводы"
      ],
      "metadata": {
        "id": "q4OpdbhwsuAX"
      }
    },
    {
      "cell_type": "markdown",
      "source": [
        "(3 балла) Мы работаем с категориальными признаками, для них не понятно что есть \"больше\" и \"меньше\". Поэтому нам нужно предварительно закодировать значения наших признаков, с чем нам поможет [OneHotEncoder](https://scikit-learn.org/stable/modules/generated/sklearn.preprocessing.OneHotEncoder.html):"
      ],
      "metadata": {
        "id": "rScraaVSxQlT"
      }
    },
    {
      "cell_type": "code",
      "source": [
        "# your code here"
      ],
      "metadata": {
        "id": "G8hDstLlxjry"
      },
      "execution_count": null,
      "outputs": []
    },
    {
      "cell_type": "markdown",
      "source": [
        "(3 балла) Разбейте датасет на обучающую и тестовую выбору. Для этого вам поможет [train_test_split](https://scikit-learn.org/stable/modules/generated/sklearn.model_selection.train_test_split.html):"
      ],
      "metadata": {
        "id": "ig8t-nmRvojA"
      }
    },
    {
      "cell_type": "code",
      "source": [
        "# your code here"
      ],
      "metadata": {
        "id": "ChVKP43AwY8i"
      },
      "execution_count": null,
      "outputs": []
    },
    {
      "cell_type": "markdown",
      "source": [
        "(3 балла) Затем создайте и обучите вашу модель - [DecisionTreeRegressor](https://scikit-learn.org/stable/modules/generated/sklearn.tree.DecisionTreeRegressor.html):"
      ],
      "metadata": {
        "id": "gbv2zLpkwZsq"
      }
    },
    {
      "cell_type": "code",
      "source": [
        "# your code here"
      ],
      "metadata": {
        "id": "Qfvv2j6Sws8p"
      },
      "execution_count": null,
      "outputs": []
    },
    {
      "cell_type": "markdown",
      "source": [
        "(3 балла) Оцените ошибку вашей модели при помощи [mean_squared_error](https://scikit-learn.org/stable/modules/generated/sklearn.metrics.mean_squared_error.html):"
      ],
      "metadata": {
        "id": "nUvBoY1pwtIv"
      }
    },
    {
      "cell_type": "code",
      "source": [
        "# your code here"
      ],
      "metadata": {
        "id": "q946oHPaxGA4"
      },
      "execution_count": null,
      "outputs": []
    },
    {
      "cell_type": "markdown",
      "source": [
        "(3 балла) **Сделайте выводы какие категориальные признаки лучше:**"
      ],
      "metadata": {
        "id": "scWwHLEKxGPl"
      }
    },
    {
      "cell_type": "markdown",
      "source": [
        "*Подсказки для маленьких: Что вы можете сказать о зависимости по вашей выборке признаков? Какой вы можете сделать вывод об готовых инструментах для работы и написанных Вами?*"
      ],
      "metadata": {
        "id": "djE6Ke2bL5WS"
      }
    },
    {
      "cell_type": "markdown",
      "source": [
        "Ваши выводы здесь :)"
      ],
      "metadata": {
        "id": "lu36_N58uvui"
      }
    }
  ]
}